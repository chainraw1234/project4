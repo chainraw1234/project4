{
 "cells": [
  {
   "cell_type": "markdown",
   "id": "54f8cb59-d15a-40e1-9dcf-42a9ba087538",
   "metadata": {},
   "source": [
    "## Import library"
   ]
  },
  {
   "cell_type": "code",
   "execution_count": 2,
   "id": "1be845c3-bf7e-4f0a-bbbf-60c55e0b1d4f",
   "metadata": {},
   "outputs": [],
   "source": [
    "import numpy as np\n",
    "import pandas as pd\n",
    "import random"
   ]
  },
  {
   "cell_type": "markdown",
   "id": "7a794017-16c3-4ade-8fe7-049cddd31921",
   "metadata": {},
   "source": [
    "## ทำการดึง dataset"
   ]
  },
  {
   "cell_type": "code",
   "execution_count": 3,
   "id": "537764ef-5734-4edc-ad65-8e8f799ec61f",
   "metadata": {},
   "outputs": [
    {
     "data": {
      "text/html": [
       "<div>\n",
       "<style scoped>\n",
       "    .dataframe tbody tr th:only-of-type {\n",
       "        vertical-align: middle;\n",
       "    }\n",
       "\n",
       "    .dataframe tbody tr th {\n",
       "        vertical-align: top;\n",
       "    }\n",
       "\n",
       "    .dataframe thead th {\n",
       "        text-align: right;\n",
       "    }\n",
       "</style>\n",
       "<table border=\"1\" class=\"dataframe\">\n",
       "  <thead>\n",
       "    <tr style=\"text-align: right;\">\n",
       "      <th></th>\n",
       "      <th>cheese</th>\n",
       "      <th>milk</th>\n",
       "      <th>country</th>\n",
       "      <th>family</th>\n",
       "      <th>type</th>\n",
       "      <th>fat_content</th>\n",
       "      <th>texture</th>\n",
       "      <th>rind</th>\n",
       "      <th>color</th>\n",
       "      <th>flavor</th>\n",
       "      <th>aroma</th>\n",
       "      <th>vegetarian</th>\n",
       "      <th>vegan</th>\n",
       "    </tr>\n",
       "  </thead>\n",
       "  <tbody>\n",
       "    <tr>\n",
       "      <th>0</th>\n",
       "      <td>2</td>\n",
       "      <td>4</td>\n",
       "      <td>72</td>\n",
       "      <td>3</td>\n",
       "      <td>47</td>\n",
       "      <td>0</td>\n",
       "      <td>11</td>\n",
       "      <td>10</td>\n",
       "      <td>16</td>\n",
       "      <td>596</td>\n",
       "      <td>49</td>\n",
       "      <td>0</td>\n",
       "      <td>0</td>\n",
       "    </tr>\n",
       "    <tr>\n",
       "      <th>1</th>\n",
       "      <td>3</td>\n",
       "      <td>18</td>\n",
       "      <td>35</td>\n",
       "      <td>3</td>\n",
       "      <td>39</td>\n",
       "      <td>0</td>\n",
       "      <td>114</td>\n",
       "      <td>7</td>\n",
       "      <td>16</td>\n",
       "      <td>69</td>\n",
       "      <td>226</td>\n",
       "      <td>1</td>\n",
       "      <td>0</td>\n",
       "    </tr>\n",
       "    <tr>\n",
       "      <th>2</th>\n",
       "      <td>9</td>\n",
       "      <td>4</td>\n",
       "      <td>31</td>\n",
       "      <td>3</td>\n",
       "      <td>38</td>\n",
       "      <td>0</td>\n",
       "      <td>99</td>\n",
       "      <td>7</td>\n",
       "      <td>11</td>\n",
       "      <td>470</td>\n",
       "      <td>0</td>\n",
       "      <td>1</td>\n",
       "      <td>0</td>\n",
       "    </tr>\n",
       "    <tr>\n",
       "      <th>3</th>\n",
       "      <td>11</td>\n",
       "      <td>4</td>\n",
       "      <td>35</td>\n",
       "      <td>3</td>\n",
       "      <td>39</td>\n",
       "      <td>0</td>\n",
       "      <td>93</td>\n",
       "      <td>7</td>\n",
       "      <td>11</td>\n",
       "      <td>488</td>\n",
       "      <td>57</td>\n",
       "      <td>0</td>\n",
       "      <td>0</td>\n",
       "    </tr>\n",
       "    <tr>\n",
       "      <th>4</th>\n",
       "      <td>15</td>\n",
       "      <td>18</td>\n",
       "      <td>74</td>\n",
       "      <td>3</td>\n",
       "      <td>21</td>\n",
       "      <td>0</td>\n",
       "      <td>199</td>\n",
       "      <td>7</td>\n",
       "      <td>15</td>\n",
       "      <td>71</td>\n",
       "      <td>158</td>\n",
       "      <td>1</td>\n",
       "      <td>0</td>\n",
       "    </tr>\n",
       "  </tbody>\n",
       "</table>\n",
       "</div>"
      ],
      "text/plain": [
       "   cheese  milk  country  family  type  fat_content  texture  rind  color  \\\n",
       "0       2     4       72       3    47            0       11    10     16   \n",
       "1       3    18       35       3    39            0      114     7     16   \n",
       "2       9     4       31       3    38            0       99     7     11   \n",
       "3      11     4       35       3    39            0       93     7     11   \n",
       "4      15    18       74       3    21            0      199     7     15   \n",
       "\n",
       "   flavor  aroma  vegetarian  vegan  \n",
       "0     596     49           0      0  \n",
       "1      69    226           1      0  \n",
       "2     470      0           1      0  \n",
       "3     488     57           0      0  \n",
       "4      71    158           1      0  "
      ]
     },
     "execution_count": 3,
     "metadata": {},
     "output_type": "execute_result"
    }
   ],
   "source": [
    "data = pd.read_csv(\"cheese_encode_5.csv\")\n",
    "data.head()"
   ]
  },
  {
   "cell_type": "markdown",
   "id": "208fc807-48a4-4147-923a-8a6517890649",
   "metadata": {},
   "source": [
    "## Node Class\n",
    "           Node Class เป็นส่วนสำคัญในการเก็บข้อมูลสำหรับแต่ละ \"โหนด\" (Node) ของต้นไม้ ซึ่งแต่ละโหนดจะเป็นจุดที่เราทำการตัดสินใจว่าจะไปในทิศทางไหนต่อจากข้อมูลที่มี โดยใช้ฟีเจอร์และ threshold ในการกำหนด"
   ]
  },
  {
   "cell_type": "code",
   "execution_count": 4,
   "id": "b28c9d79-2015-40dc-a57e-cb9a33ce829a",
   "metadata": {},
   "outputs": [],
   "source": [
    "# Decision Tree Node Class (Unchanged)\n",
    "class Node():\n",
    "    def __init__(self, feature_index=None, threshold=None, left=None, right=None, info_gain=None, value=None):\n",
    "        self.feature_index = feature_index # กำหนดอินเด็กซ์ของฟีเจอร์ที่ใช้ในการแบ่งข้อมูล\n",
    "        self.threshold = threshold # กำหนดค่าขีดจำกัดในการแบ่งข้อมูลของฟีเจอร์นั้น\n",
    "        self.left = left  # โหนดซ้าย (subtree ซ้าย)\n",
    "        self.right = right  # โหนดขวา (subtree ขวา)\n",
    "        self.info_gain = info_gain # ค่าข้อมูลที่ได้รับจากการแบ่ง (information gain)\n",
    "        \n",
    "        self.value = value # ค่าของโหนด (ใช้ใน leaf nodes)"
   ]
  },
  {
   "cell_type": "markdown",
   "id": "223f913f-016c-409c-85a6-deac51c29a92",
   "metadata": {},
   "source": [
    "## Decision Tree Classifier\n",
    "        ทำหน้าที่ในการสร้างและใช้งาน Decision Tree\n",
    "### ภาพรวมการทำงานมี 3 ส่วน ที่สำคัญดังนี้\n",
    "1. สร้างต้นไม้: ฟังก์ชัน build_tree จะสร้างต้นไม้ตัดสินใจจากข้อมูลโดยใช้กระบวนการค้นหาการแบ่งที่ดีที่สุดในแต่ละโหนด\n",
    "2. การแบ่งข้อมูล: ฟังก์ชัน get_best_split ค้นหาการแบ่งที่เหมาะสมที่สุดโดยเลือกฟีเจอร์และค่าเกณฑ์ที่ให้ค่า Information Gain สูงสุด\n",
    "3. ทำนายค่า: ฟังก์ชัน predict และ make_prediction ทำหน้าที่ทำนายค่าจากข้อมูลใหม่ โดยใช้โหนดต่าง ๆ ที่ถูกสร้างขึ้นจากต้นไม้"
   ]
  },
  {
   "cell_type": "code",
   "execution_count": 5,
   "id": "578ab3cd-593c-483a-9eb3-efd3f96b2c5d",
   "metadata": {},
   "outputs": [],
   "source": [
    "# Decision Tree Classifier (Unchanged)\n",
    "class DecisionTreeClassifier():\n",
    "    #ฟังก์ชันนี้เป็นการกำหนดค่าพื้นฐานของคลาส เช่น จำนวนตัวอย่างข้อมูลขั้นต่ำที่ใช้ในการแบ่ง \n",
    "    # (min_samples_split) และความลึกสูงสุดของต้นไม้ (max_depth)\n",
    "    def __init__(self, min_samples_split=2, max_depth=2):\n",
    "        self.root = None\n",
    "        self.min_samples_split = min_samples_split\n",
    "        self.max_depth = max_depth\n",
    "    \n",
    "    # เป็นฟังก์ชันที่สร้างต้นไม้โดยใช้การแบ่งข้อมูลแบบ recursive(ซั้า)\n",
    "    def build_tree(self, dataset, curr_depth=0):\n",
    "        X, Y = dataset[:, :-1], dataset[:, -1] # แยกข้อมูลออกเป็นฟีเจอร์ (X) และเป้าหมาย (Y)\n",
    "        num_samples, num_features = np.shape(X) \n",
    "\n",
    "        if num_samples >= self.min_samples_split and curr_depth <= self.max_depth:\n",
    "            # ค้นหาเกณฑ์ที่ดีที่สุด\n",
    "            best_split = self.get_best_split(dataset, num_samples, num_features)\n",
    "\n",
    "            # เมื่อได้ค่าที่ดีที่สุดแล้วจะสร้างโหนดซ้าย-ขวาจนถึงความลึกสูงสุดของ info_gain\n",
    "            if best_split and best_split[\"info_gain\"] > 0:\n",
    "                left_subtree = self.build_tree(best_split[\"dataset_left\"], curr_depth + 1)\n",
    "                right_subtree = self.build_tree(best_split[\"dataset_right\"], curr_depth + 1)\n",
    "                return Node(best_split[\"feature_index\"], best_split[\"threshold\"], \n",
    "                      left_subtree, right_subtree, best_split[\"info_gain\"])\n",
    "\n",
    "        # กรณีไม่สามารถแบ่งได้แล้ว(best_split < 0) จะคำนวณค่าที่ดีที่สุดของ leaf node\n",
    "        leaf_value = self.calculate_leaf_value(Y)\n",
    "        return Node(value=leaf_value)\n",
    "\n",
    "    # หาการแบ่งที่ดีที่สุดโดยใช้การคำนวณค่าข้อมูลที่ได้รับ (information gain) ซึ่งขึ้นอยู่กับเกณฑ์ Gini index หรือ entropy\n",
    "    def get_best_split(self, dataset, num_samples, num_features):\n",
    "    \n",
    "        # เตรียมการเก็บค่าการแบ่งที่ดีที่สุด\n",
    "        best_split = {}\n",
    "        max_info_gain = -float(\"inf\")\n",
    "    \n",
    "        # วนลูปผ่านทุกฟีเจอร์ในข้อมูล เพื่อทำการตรวจสอบว่าการแบ่งตามฟีเจอร์นั้นๆ จะให้ผลลัพธ์ที่ดีหรือไม่\n",
    "        for feature_index in range(num_features):\n",
    "            feature_values = dataset[:, feature_index]\n",
    "            possible_thresholds = np.unique(feature_values)\n",
    "        \n",
    "            # วนลูปผ่านค่าขีดจำกัดที่เป็นไปได้ ผ่านแต่ละ threshold ที่เป็นไปได้สำหรับฟีเจอร์นั้นๆ\n",
    "            for threshold in possible_thresholds:\n",
    "                # dataset_left: ข้อมูลที่มีค่าน้อยกว่าหรือเท่ากับ threshold\n",
    "                # dataset_right: ข้อมูลที่มีค่ามากกว่า threshold\n",
    "                dataset_left, dataset_right = self.split(dataset, feature_index, threshold)\n",
    "            \n",
    "                # ตรวจสอบว่าการแบ่งมีข้อมูลทั้งสองด้านหรือไม่\n",
    "                if len(dataset_left) > 0 and len(dataset_right) > 0:\n",
    "                    y, left_y, right_y = dataset[:, -1], dataset_left[:, -1], dataset_right[:, -1]\n",
    "                \n",
    "                    # คำนวณค่า information gain\n",
    "                    curr_info_gain = self.information_gain(y, left_y, right_y, \"gini\")\n",
    "                \n",
    "                    # อัปเดตการแบ่งที่ดีที่สุดหากค่าการเพิ่มข้อมูลสูงขึ้น\n",
    "                    if curr_info_gain > max_info_gain:\n",
    "                        best_split = {\n",
    "                            \"feature_index\": feature_index,\n",
    "                            \"threshold\": threshold,\n",
    "                            \"dataset_left\": dataset_left,\n",
    "                            \"dataset_right\": dataset_right,\n",
    "                            \"info_gain\": curr_info_gain\n",
    "                        }\n",
    "                        max_info_gain = curr_info_gain\n",
    "\n",
    "        # คืนค่าการแบ่งที่ดีที่สุด\n",
    "        return best_split if \"info_gain\" in best_split else None\n",
    "\n",
    "    # ฟังก์ชันนี้ใช้แบ่งข้อมูลออกเป็นสองส่วนตามฟีเจอร์และค่า threshold ที่กำหนด \n",
    "    # โดยข้อมูลที่ค่าฟีเจอร์น้อยกว่าหรือเท่ากับ threshold จะไปอยู่ที่ฝั่งซ้าย และข้อมูลที่มากกว่า threshold จะอยู่ฝั่งขวา\n",
    "    def split(self, dataset, feature_index, threshold):\n",
    "        dataset_left = np.array([row for row in dataset if row[feature_index] <= threshold])\n",
    "        dataset_right = np.array([row for row in dataset if row[feature_index] > threshold])\n",
    "        return dataset_left, dataset_right\n",
    "\n",
    "    # ฟังก์ชันนี้คำนวณค่า Information Gain ที่ได้จากการแบ่งข้อมูล ซึ่งสามารถใช้เกณฑ์ Gini หรือ Entropy\n",
    "    def information_gain(self, parent, l_child, r_child, mode=\"gini\"):\n",
    "        weight_l = len(l_child) / len(parent)\n",
    "        weight_r = len(r_child) / len(parent)\n",
    "        if mode == \"gini\":\n",
    "            gain = self.gini_index(parent) - (weight_l * self.gini_index(l_child) + weight_r * self.gini_index(r_child))\n",
    "        else:\n",
    "            gain = self.entropy(parent) - (weight_l * self.entropy(l_child) + weight_r * self.entropy(r_child))\n",
    "        return gain\n",
    "\n",
    "    # ฟังก์ชันนี้คำนวณค่า Gini impurity ซึ่งเป็นวิธีในการวัดการกระจายของข้อมูลในแต่ละโหนด\n",
    "    # ยิ่งตํ่ายิ่งดี\n",
    "    def gini_index(self, y):\n",
    "        class_labels = np.unique(y)\n",
    "        gini = 0\n",
    "        for cls in class_labels:\n",
    "            p_cls = len(y[y == cls]) / len(y)\n",
    "            gini += p_cls**2\n",
    "        return 1 - gini\n",
    "\n",
    "    # เมื่อไม่สามารถแบ่งข้อมูลได้อีกแล้ว ฟังก์ชันนี้จะคำนวณค่าทำนายสำหรับ leaf node \n",
    "    # โดยใช้ข้อมูลส่วนใหญ่ในโหนดนั้นในการกำหนดค่าทำนาย\n",
    "    def calculate_leaf_value(self, Y):\n",
    "        Y = list(Y)\n",
    "        return max(Y, key=Y.count)\n",
    "\n",
    "    # ฟังก์ชันนี้เป็นการรวมข้อมูลฟีเจอร์และ target เข้าด้วยกัน\n",
    "    def fit(self, X, Y):\n",
    "        dataset = np.concatenate((X, Y), axis=1)\n",
    "        self.root = self.build_tree(dataset)\n",
    "\n",
    "    # ฟังก์ชันนี้ใช้ในการทำนายค่าจากข้อมูลใหม่ \n",
    "    #โดยผ่านการวนลูปที่โหนดในต้นไม้โดยใช้ฟังก์ชัน make_prediction เพื่อหาค่าทำนายในแต่ละจุด\n",
    "    def predict(self, X):\n",
    "        predictions = [self.make_prediction(x, self.root) for x in X]\n",
    "        return predictions\n",
    "\n",
    "    # ฟังก์ชันนี้ใช้ในการทำ recursive เพื่อค้นหาโหนดที่เป็น leaf node และส่งค่าทำนายกลับมาเมื่อถึง leaf node \n",
    "    def make_prediction(self, x, tree):\n",
    "        if tree.value != None: return tree.value\n",
    "        feature_val = x[tree.feature_index]\n",
    "        if feature_val <= tree.threshold:\n",
    "            return self.make_prediction(x, tree.left)\n",
    "        else:\n",
    "            return self.make_prediction(x, tree.right)"
   ]
  },
  {
   "cell_type": "markdown",
   "id": "fae94d4f-c8df-4d2e-ae94-e22d229f9ab4",
   "metadata": {},
   "source": [
    "## Random Forest Classifier Implementation\n",
    "         ในส่วนนี้ทำการ implement Random Forest Classifier โดยมีการสร้างต้นไม้หลายต้น (Decision Trees) และใช้การทำนายผลจากแต่ละต้นไม้ร่วมกันเพื่อให้ผลลัพธ์สุดท้ายออกมาดีขึ้น\n",
    "### ภาพรวมการทำงานมี 2 ส่วน ที่สำคัญดังนี้\n",
    "1. สร้าง Random Foresrt classifier: ฟังก์ชัน fit สร้างต้นไม้ตัดสินใจหลายต้นตามจำนวนที่กำหนด (n_estimators)\n",
    "2. ทำนายค่า: ฟังก์ชัน predict ใช้การทำนายจากต้นไม้ทุกต้นในป่า และใช้วิธี majority vote เพื่อเลือกค่าที่เป็นคำตอบสุดท้าย"
   ]
  },
  {
   "cell_type": "code",
   "execution_count": 6,
   "id": "09dfee1c-66a3-471a-95bd-7db0ba4d22e1",
   "metadata": {},
   "outputs": [],
   "source": [
    "# Random Forest Classifier Implementation\n",
    "class RandomForestClassifierFromScratch:\n",
    "    def __init__(self, n_estimators=10, max_depth=5, min_samples_split=2, max_features='sqrt'):\n",
    "        self.n_estimators = n_estimators # จำนวนต้นไม้ที่จะสร้างใน Random Forest\n",
    "        self.max_depth = max_depth # ความลึกสูงสุดของแต่ละต้นไม้\n",
    "        self.min_samples_split = min_samples_split # จำนวนตัวอย่างข้อมูลขั้นต่ำที่ใช้ในการแบ่งโหนด\n",
    "        self.max_features = max_features # จำนวนฟีเจอร์สูงสุด\n",
    "        self.trees = []\n",
    "\n",
    "    # ฟังก์ชันนี้ใช้ในการสร้าง Random Forest จาก Train set\n",
    "    def fit(self, X, Y):\n",
    "        self.trees = []\n",
    "        for _ in range(self.n_estimators):\n",
    "            X_sample, Y_sample = self._bootstrap_sampling(X, Y)\n",
    "            tree = DecisionTreeClassifier(max_depth=self.max_depth, min_samples_split=self.min_samples_split)\n",
    "            tree.fit(X_sample, Y_sample)\n",
    "            self.trees.append(tree)\n",
    "\n",
    "    # ฟังก์ชันนี้ใช้สำหรับการสุ่มข้อมูลแบบ bootstrap\n",
    "    # bootstrap sampling ซึ่งเป็นการสุ่มข้อมูลแบบมีการทดแทน (replace=True) \n",
    "    # หมายความว่าตัวอย่างข้อมูลเดิมสามารถถูกสุ่มซ้ำได้\n",
    "    def _bootstrap_sampling(self, X, Y):\n",
    "        n_samples = X.shape[0]\n",
    "        indices = np.random.choice(n_samples, size=n_samples, replace=True)\n",
    "        return X[indices], Y[indices]\n",
    "\n",
    "    # ฟังก์ชันนี้ใช้สำหรับทำนายค่าจากข้อมูลใหม่\n",
    "    def predict(self, X):\n",
    "        tree_predictions = np.array([tree.predict(X) for tree in self.trees])\n",
    "        final_predictions = [self._majority_vote(tree_predictions[:, i]) for i in range(X.shape[0])]\n",
    "        return final_predictions\n",
    "\n",
    "    # ฟังก์ชันนี้ใช้สำหรับหาคำตอบที่ได้รับการโหวตมากที่สุดจากผลการทำนายของต้นไม้หลายต้น\n",
    "    def _majority_vote(self, predictions):\n",
    "        return max(set(predictions), key=list(predictions).count)"
   ]
  },
  {
   "cell_type": "markdown",
   "id": "954455a2-89b0-45f2-8c04-5d1a2893afd2",
   "metadata": {},
   "source": [
    "## ทำการแยกข้อมูลเป็น feature และ target"
   ]
  },
  {
   "cell_type": "code",
   "execution_count": 7,
   "id": "0f4de0f6-b497-4810-9326-d89737a3599a",
   "metadata": {},
   "outputs": [
    {
     "name": "stdout",
     "output_type": "stream",
     "text": [
      "[[  2   4  72 ...  49   0   0]\n",
      " [  3  18  35 ... 226   1   0]\n",
      " [  9   4  31 ...   0   1   0]\n",
      " ...\n",
      " [693  13   4 ...  87   1   0]\n",
      " [873   4  14 ... 250   0   0]\n",
      " [832  13  35 ... 181   0   0]]\n",
      "[[ 3]\n",
      " [ 3]\n",
      " [ 3]\n",
      " ...\n",
      " [12]\n",
      " [12]\n",
      " [12]]\n"
     ]
    }
   ],
   "source": [
    "X = data.drop('family', axis=1).values\n",
    "Y = data['family'].values.reshape(-1, 1)\n",
    "\n",
    "print(X)\n",
    "print(Y)"
   ]
  },
  {
   "cell_type": "markdown",
   "id": "fd3576ae-d9ad-4d82-b65d-04ff5a0c408e",
   "metadata": {},
   "source": [
    "## ทำการแบ่งชุดข้อมูล train set และ test set"
   ]
  },
  {
   "cell_type": "code",
   "execution_count": 8,
   "id": "c23bacf7-709c-4b7b-9ac7-f424f99915db",
   "metadata": {},
   "outputs": [],
   "source": [
    "from sklearn.model_selection import train_test_split\n",
    "X_train, X_test, Y_train, Y_test = train_test_split(X, Y, test_size=0.3, random_state=42)"
   ]
  },
  {
   "cell_type": "markdown",
   "id": "19625d39-994f-4050-b935-fbbf98324585",
   "metadata": {},
   "source": [
    "## ทำการสร้างโมเดล Random Forest\n",
    "- กำหนดไห้สร้างต้นไม้ 100 ต้น\n",
    "- ความลึกสูงสุดของต้นไม้เป็น 12 ชั้น\n",
    "- กำหนด sample ขั้นตํ่าที่ใช้ในการแยกข้อมูล 3 ตัวอย่าง"
   ]
  },
  {
   "cell_type": "code",
   "execution_count": 9,
   "id": "f97ed1c7-41a3-402d-9441-1fb8516f07ed",
   "metadata": {},
   "outputs": [],
   "source": [
    "# Create Random Forest Model\n",
    "rf_classifier = RandomForestClassifierFromScratch(n_estimators=100, max_depth=12, min_samples_split=3)\n",
    "rf_classifier.fit(X_train, Y_train)"
   ]
  },
  {
   "cell_type": "code",
   "execution_count": 10,
   "id": "209cbf0d-4901-4150-a9db-a185a24a45ae",
   "metadata": {},
   "outputs": [],
   "source": [
    "# ทำการเก็บผลลัพธ์ที่คาดการณ์จากโมเดล Random Forest\n",
    "Y_pred_rf = rf_classifier.predict(X_test)"
   ]
  },
  {
   "cell_type": "markdown",
   "id": "b94d6e03-ab8e-401c-8148-ea94f9743aaf",
   "metadata": {},
   "source": [
    "## ทำการคำนวณ accuracy ของโมเดล Random Forest"
   ]
  },
  {
   "cell_type": "code",
   "execution_count": 11,
   "id": "ceeafae7-148a-4adb-86b3-f1b826e6d7f8",
   "metadata": {},
   "outputs": [
    {
     "name": "stdout",
     "output_type": "stream",
     "text": [
      "Random Forest Model Accuracy: 0.9126117179741807\n"
     ]
    }
   ],
   "source": [
    "from sklearn.metrics import accuracy_score\n",
    "accuracy = accuracy_score(Y_test, Y_pred_rf)\n",
    "print(f\"Random Forest Model Accuracy: {accuracy}\")"
   ]
  },
  {
   "cell_type": "code",
   "execution_count": 12,
   "id": "e9b39950-7cc0-4144-a19a-e82bebf806dd",
   "metadata": {
    "scrolled": true
   },
   "outputs": [
    {
     "name": "stdout",
     "output_type": "stream",
     "text": [
      "[12, 0, 4, 10, 3, 2, 11, 0, 10, 7, 12, 2, 3, 9, 8, 7, 7, 1, 3, 1, 10, 4, 5, 3, 12, 6, 0, 3, 4, 12, 2, 1, 10, 1, 10, 12, 11, 5, 8, 6, 11, 0, 11, 10, 6, 3, 12, 2, 9, 10, 0, 9, 6, 0, 1, 2, 10, 1, 6, 1, 4, 8, 4, 7, 6, 3, 11, 3, 3, 4, 12, 5, 9, 3, 8, 1, 12, 5, 8, 6, 11, 0, 6, 10, 9, 10, 0, 10, 10, 3, 5, 8, 8, 6, 0, 11, 11, 8, 11, 1, 2, 9, 9, 1, 5, 8, 4, 8, 0, 5, 10, 1, 1, 2, 11, 10, 11, 6, 3, 12, 11, 3, 7, 6, 3, 4, 3, 8, 4, 0, 1, 7, 7, 9, 10, 3, 1, 3, 3, 3, 12, 9, 0, 12, 3, 3, 2, 0, 4, 2, 3, 6, 1, 8, 9, 1, 10, 6, 12, 5, 6, 0, 1, 1, 3, 8, 0, 12, 7, 2, 10, 8, 3, 0, 3, 9, 5, 9, 7, 11, 3, 10, 9, 4, 5, 9, 1, 3, 8, 2, 8, 3, 11, 12, 5, 8, 7, 9, 0, 9, 1, 3, 2, 7, 11, 4, 10, 2, 12, 12, 1, 6, 9, 0, 0, 6, 3, 10, 5, 9, 11, 9, 2, 8, 4, 5, 4, 4, 5, 10, 12, 2, 1, 6, 3, 1, 0, 8, 2, 7, 4, 6, 11, 3, 2, 0, 4, 9, 5, 3, 4, 3, 3, 9, 7, 0, 2, 5, 1, 7, 9, 5, 3, 1, 2, 10, 9, 3, 9, 8, 0, 10, 8, 2, 7, 3, 12, 11, 1, 0, 11, 8, 7, 7, 0, 1, 3, 9, 1, 5, 11, 11, 12, 4, 11, 9, 2, 2, 3, 3, 11, 8, 12, 5, 7, 8, 3, 4, 12, 10, 1, 3, 4, 3, 5, 6, 10, 6, 10, 8, 0, 4, 3, 8, 3, 9, 12, 2, 9, 7, 9, 11, 3, 0, 1, 5, 4, 7, 4, 8, 10, 4, 2, 6, 10, 8, 3, 4, 4, 4, 8, 7, 11, 12, 12, 4, 2, 5, 2, 9, 0, 6, 3, 2, 11, 3, 4, 1, 8, 2, 12, 12, 0, 3, 1, 6, 8, 0, 2, 11, 10, 2, 5, 10, 1, 6, 9, 7, 2, 0, 4, 1, 0, 11, 8, 12, 2, 7, 2, 5, 5, 0, 3, 9, 0, 3, 10, 11, 2, 6, 6, 3, 0, 0, 3, 1, 5, 7, 5, 12, 3, 3, 5, 11, 7, 5, 0, 2, 11, 7, 10, 0, 5, 11, 1, 4, 1, 3, 1, 5, 7, 12, 5, 6, 0, 12, 11, 3, 6, 8, 4, 10, 9, 8, 10, 0, 5, 0, 5, 3, 7, 1, 3, 6, 10, 11, 0, 5, 4, 7, 8, 8, 1, 1, 12, 1, 11, 11, 10, 8, 1, 8, 10, 12, 5, 5, 0, 8, 8, 8, 9, 3, 12, 2, 7, 8, 8, 0, 0, 0, 11, 4, 7, 6, 7, 7, 2, 1, 9, 4, 2, 7, 9, 5, 11, 1, 4, 12, 9, 3, 1, 6, 6, 9, 2, 12, 12, 5, 12, 10, 11, 2, 5, 7, 1, 10, 3, 6, 1, 4, 6, 5, 9, 3, 8, 10, 12, 7, 7, 11, 12, 12, 6, 2, 4, 11, 5, 9, 4, 1, 8, 4, 6, 7, 4, 0, 3, 10, 9, 8, 11, 3, 4, 10, 3, 4, 2, 6, 8, 0, 12, 5, 9, 2, 4, 2, 2, 10, 6, 2, 1, 2, 0, 10, 11, 11, 1, 12, 0, 1, 9, 5, 6, 5, 12, 7, 9, 8, 12, 9, 1, 3, 10, 2, 5, 8, 0, 11, 2, 0, 9, 6, 4, 0, 8, 2, 1, 5, 3, 7, 6, 3, 3, 2, 8, 2, 7, 2, 12, 10, 11, 4, 6, 7, 4, 0, 8, 12, 10, 5, 7, 4, 6, 4, 8, 10, 5, 3, 8, 8, 7, 9, 6, 11, 6, 10, 6, 10, 1, 1, 1, 10, 7, 11, 9, 1, 7, 11, 3, 5, 2, 11, 8, 3, 4, 8, 12, 2, 12, 5, 5, 6, 9, 12, 9, 3, 8, 11, 2, 12, 9, 8, 5, 7, 4, 10, 0, 5, 5, 11, 2, 11, 4, 9, 4, 2, 10, 8, 8, 7, 7, 5, 1, 4, 6, 8, 3, 11, 0, 3, 6, 3, 2, 11, 10, 6, 3, 11, 11, 10, 5, 10, 4, 0, 7, 12, 7, 7, 4, 10, 10, 10, 5, 1, 12, 0, 3, 8, 12, 8, 9, 0, 5, 3, 7, 3, 5, 2, 7, 7, 1, 9, 1, 10, 1, 12, 1, 0, 3, 6, 1, 2, 1, 3, 8, 10, 12, 12, 10, 0, 8, 1, 8, 11, 8, 10, 11, 12, 9, 9, 4, 12, 11, 4, 11, 1, 12, 5, 11, 8, 9, 12, 12, 2, 11, 0, 0, 2, 9, 1, 10, 1, 4, 9, 2, 1, 7, 2, 12, 9, 5, 10, 9, 3, 12, 1, 0, 5, 0, 6, 3, 6, 7, 8, 11, 10, 9, 1, 11, 10, 10, 7, 12, 12, 12, 6, 8, 1, 11, 6, 12, 10, 1, 6, 0, 11, 9, 10, 2, 8, 9, 3, 11, 9, 0, 9, 9, 2, 3, 6, 1, 8, 7, 0, 7, 11, 0, 9, 3, 10, 4, 0, 3, 0, 10, 8, 11, 4, 11, 10, 6, 6, 8, 9, 6, 11, 9, 9, 12, 8, 1, 3, 9, 7, 10, 3, 4, 10, 8, 2, 12, 10, 9, 3, 12, 11, 1, 9, 11, 3, 6, 6, 6, 2, 6, 3, 2, 12, 2, 11, 12, 5, 12, 7, 2, 2, 3, 9, 6, 6, 9, 5, 10, 11, 1, 7, 1, 6, 5, 10, 3, 9, 4, 12, 11, 8, 12, 4, 10, 11, 7, 2, 10, 2, 6, 5, 3, 10, 12, 11, 9, 8, 2, 5, 4, 9, 6, 3, 12, 10, 0, 10, 12, 4, 4, 6, 2, 1, 7, 7, 2, 6, 4, 5, 0, 1, 0]\n"
     ]
    }
   ],
   "source": [
    "print(Y_pred_rf[:])"
   ]
  },
  {
   "cell_type": "code",
   "execution_count": 13,
   "id": "1571a0a7-b1ed-4c0e-8c45-a29af37fd572",
   "metadata": {},
   "outputs": [
    {
     "name": "stdout",
     "output_type": "stream",
     "text": [
      "[[ 359    4   77 ...  127    1    0]\n",
      " [1068    4   77 ...  100    1    0]\n",
      " [  71   13   35 ...  105    0    0]\n",
      " ...\n",
      " [ 653    4   52 ...  181    0    0]\n",
      " [ 301   13   35 ...    0    0    0]\n",
      " [1071    4   77 ...  268    1    0]]\n"
     ]
    }
   ],
   "source": [
    "print(X_test[:,:])"
   ]
  },
  {
   "cell_type": "code",
   "execution_count": 14,
   "id": "7658177a-5223-446e-885c-d38a123693c2",
   "metadata": {
    "scrolled": true
   },
   "outputs": [
    {
     "name": "stdout",
     "output_type": "stream",
     "text": [
      "[[12]\n",
      " [ 0]\n",
      " [ 4]\n",
      " ...\n",
      " [ 0]\n",
      " [ 1]\n",
      " [ 0]]\n"
     ]
    }
   ],
   "source": [
    "print(Y_test)"
   ]
  },
  {
   "cell_type": "markdown",
   "id": "71a811e3-e955-4fe1-80f1-9e75ce47949b",
   "metadata": {},
   "source": [
    "## สร้างและแสดง Classification Report"
   ]
  },
  {
   "cell_type": "code",
   "execution_count": 15,
   "id": "f62bb68f-c006-4491-ada2-779db45c0080",
   "metadata": {},
   "outputs": [
    {
     "name": "stdout",
     "output_type": "stream",
     "text": [
      "Classification Report:\n",
      "               precision    recall  f1-score   support\n",
      "\n",
      "           0       0.78      0.61      0.69        95\n",
      "           1       0.79      0.93      0.86        70\n",
      "           2       1.00      1.00      1.00        78\n",
      "           3       0.86      0.73      0.79       118\n",
      "           4       1.00      1.00      1.00        69\n",
      "           5       0.99      1.00      0.99        68\n",
      "           6       0.85      0.91      0.88        66\n",
      "           7       0.98      0.97      0.98        67\n",
      "           8       0.90      0.96      0.93        74\n",
      "           9       0.99      0.97      0.98        80\n",
      "          10       0.95      0.99      0.97        80\n",
      "          11       0.86      1.00      0.93        68\n",
      "          12       0.95      1.00      0.97        74\n",
      "\n",
      "    accuracy                           0.91      1007\n",
      "   macro avg       0.92      0.93      0.92      1007\n",
      "weighted avg       0.91      0.91      0.91      1007\n",
      "\n"
     ]
    }
   ],
   "source": [
    "from sklearn.metrics import classification_report\n",
    "\n",
    "report = classification_report(Y_test, Y_pred_rf)\n",
    "print(\"Classification Report:\\n\", report)"
   ]
  },
  {
   "cell_type": "markdown",
   "id": "81b9abd8-51d4-4571-901b-5cb5df2dfc7b",
   "metadata": {},
   "source": [
    "## การบันทึกโมเดลที่สร้างขึ้น"
   ]
  },
  {
   "cell_type": "code",
   "execution_count": 16,
   "id": "c82543f2-b14f-4063-982b-a5cafef455ff",
   "metadata": {},
   "outputs": [
    {
     "data": {
      "text/plain": [
       "['model_now.joblib']"
      ]
     },
     "execution_count": 16,
     "metadata": {},
     "output_type": "execute_result"
    }
   ],
   "source": [
    "import joblib\n",
    "joblib.dump(rf_classifier,'model_now.joblib')"
   ]
  },
  {
   "cell_type": "code",
   "execution_count": null,
   "id": "6fa0222e-1902-494b-81d6-3b77a33f4dd4",
   "metadata": {},
   "outputs": [],
   "source": []
  }
 ],
 "metadata": {
  "kernelspec": {
   "display_name": "Python 3 (ipykernel)",
   "language": "python",
   "name": "python3"
  },
  "language_info": {
   "codemirror_mode": {
    "name": "ipython",
    "version": 3
   },
   "file_extension": ".py",
   "mimetype": "text/x-python",
   "name": "python",
   "nbconvert_exporter": "python",
   "pygments_lexer": "ipython3",
   "version": "3.12.3"
  }
 },
 "nbformat": 4,
 "nbformat_minor": 5
}
